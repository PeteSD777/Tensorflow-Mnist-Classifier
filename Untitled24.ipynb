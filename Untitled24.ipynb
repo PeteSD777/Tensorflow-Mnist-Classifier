{
  "nbformat": 4,
  "nbformat_minor": 0,
  "metadata": {
    "colab": {
      "name": "Untitled24.ipynb",
      "provenance": [],
      "collapsed_sections": [],
      "authorship_tag": "ABX9TyOqFEUcBwYJ8O2MIxIoON6o",
      "include_colab_link": true
    },
    "kernelspec": {
      "name": "python3",
      "display_name": "Python 3"
    }
  },
  "cells": [
    {
      "cell_type": "markdown",
      "metadata": {
        "id": "view-in-github",
        "colab_type": "text"
      },
      "source": [
        "<a href=\"https://colab.research.google.com/github/PeteSD777/Tensorflow-Mnist-Classifier/blob/main/Untitled24.ipynb\" target=\"_parent\"><img src=\"https://colab.research.google.com/assets/colab-badge.svg\" alt=\"Open In Colab\"/></a>"
      ]
    },
    {
      "cell_type": "code",
      "metadata": {
        "id": "W3wtEXKvh_9M"
      },
      "source": [
        "%tensorflow_version 2.x\r\n",
        "import tensorflow as tf\r\n",
        "from tensorflow import keras\r\n",
        "import numpy as np\r\n",
        "import matplotlib.pyplot as plt"
      ],
      "execution_count": null,
      "outputs": []
    },
    {
      "cell_type": "code",
      "metadata": {
        "id": "rrx_5PEYiL7x"
      },
      "source": [
        "# Fashion mnist dataset load and dataset split into train and test\r\n",
        "fashion_mnist = keras.datasets.fashion_mnist\r\n",
        "(train_images, train_labels), (test_images, test_labels)=fashion_mnist.load_data()"
      ],
      "execution_count": null,
      "outputs": []
    },
    {
      "cell_type": "code",
      "metadata": {
        "id": "MoifMLUdiU9j"
      },
      "source": [
        "#class names of items in the dataset\r\n",
        "class_names =[\"T-shirt/top\", \"Trouser\", 'Pullover', 'Dress', 'Coat',\r\n",
        "              'Sandal', 'Shirt', 'Sneaker', 'Bag', 'Ankle boot']"
      ],
      "execution_count": null,
      "outputs": []
    },
    {
      "cell_type": "code",
      "metadata": {
        "id": "SWyCKojUiiv-"
      },
      "source": [
        "#data preprocessing\r\n",
        "train_images = train_images/255.0\r\n",
        "test_images = test_images/255.0"
      ],
      "execution_count": null,
      "outputs": []
    },
    {
      "cell_type": "code",
      "metadata": {
        "id": "BcSDDtiWinsd"
      },
      "source": [
        "#Building model\r\n",
        "model = keras.Sequential([\r\n",
        "                          keras.layers.Flatten(input_shape=(28,28)), #input layer(1)\r\n",
        "                          keras.layers.Dense(128, activation='relu'), #hidden layer (2)\r\n",
        "                          keras.layers.Dense(10, activation='softmax') #output (layer 3) number equals amount of classes\r\n",
        "])"
      ],
      "execution_count": null,
      "outputs": []
    },
    {
      "cell_type": "code",
      "metadata": {
        "id": "aBXOMmKgizL-"
      },
      "source": [
        "#Compile the model\r\n",
        "model.compile(optimizer='adam', loss='sparse_categorical_crossentropy', metrics=['accuracy'])"
      ],
      "execution_count": null,
      "outputs": []
    },
    {
      "cell_type": "code",
      "metadata": {
        "colab": {
          "base_uri": "https://localhost:8080/"
        },
        "id": "yvYskomdi4s3",
        "outputId": "d974ffe5-d7c8-4831-e713-3572cf31ba1d"
      },
      "source": [
        "#training the model\r\n",
        "model.fit(train_images, train_labels, epochs=12)"
      ],
      "execution_count": null,
      "outputs": [
        {
          "output_type": "stream",
          "text": [
            "Epoch 1/12\n",
            "1875/1875 [==============================] - 4s 2ms/step - loss: 1.5171 - accuracy: 0.5415\n",
            "Epoch 2/12\n",
            "1875/1875 [==============================] - 4s 2ms/step - loss: 0.6790 - accuracy: 0.7574\n",
            "Epoch 3/12\n",
            "1875/1875 [==============================] - 4s 2ms/step - loss: 0.5827 - accuracy: 0.7896\n",
            "Epoch 4/12\n",
            "1875/1875 [==============================] - 4s 2ms/step - loss: 0.5384 - accuracy: 0.8084\n",
            "Epoch 5/12\n",
            "1875/1875 [==============================] - 4s 2ms/step - loss: 0.5111 - accuracy: 0.8188\n",
            "Epoch 6/12\n",
            "1875/1875 [==============================] - 4s 2ms/step - loss: 0.4844 - accuracy: 0.8272\n",
            "Epoch 7/12\n",
            "1875/1875 [==============================] - 4s 2ms/step - loss: 0.4683 - accuracy: 0.8348\n",
            "Epoch 8/12\n",
            "1875/1875 [==============================] - 4s 2ms/step - loss: 0.4626 - accuracy: 0.8378\n",
            "Epoch 9/12\n",
            "1875/1875 [==============================] - 4s 2ms/step - loss: 0.4483 - accuracy: 0.8431\n",
            "Epoch 10/12\n",
            "1875/1875 [==============================] - 4s 2ms/step - loss: 0.4415 - accuracy: 0.8427\n",
            "Epoch 11/12\n",
            "1875/1875 [==============================] - 4s 2ms/step - loss: 0.4263 - accuracy: 0.8501\n",
            "Epoch 12/12\n",
            "1875/1875 [==============================] - 4s 2ms/step - loss: 0.4261 - accuracy: 0.8494\n"
          ],
          "name": "stdout"
        },
        {
          "output_type": "execute_result",
          "data": {
            "text/plain": [
              "<tensorflow.python.keras.callbacks.History at 0x7f8994101b00>"
            ]
          },
          "metadata": {
            "tags": []
          },
          "execution_count": 10
        }
      ]
    },
    {
      "cell_type": "code",
      "metadata": {
        "colab": {
          "base_uri": "https://localhost:8080/"
        },
        "id": "aENMYQfui8Jq",
        "outputId": "6c574de3-7a19-42da-c7e3-71dd961507b9"
      },
      "source": [
        "#testing the model\r\n",
        "test_loss, test_accuracy = model.evaluate(test_images, test_labels, verbose=1)\r\n",
        "print(\"test accuracy:\", test_accuracy)"
      ],
      "execution_count": null,
      "outputs": [
        {
          "output_type": "stream",
          "text": [
            "313/313 [==============================] - 1s 1ms/step - loss: 0.4559 - accuracy: 0.8366\n",
            "test accuracy: 0.8366000056266785\n"
          ],
          "name": "stdout"
        }
      ]
    },
    {
      "cell_type": "code",
      "metadata": {
        "id": "YZuHvoXQTob-"
      },
      "source": [
        "sd\r\n"
      ],
      "execution_count": null,
      "outputs": []
    },
    {
      "cell_type": "code",
      "metadata": {
        "colab": {
          "base_uri": "https://localhost:8080/",
          "height": 497
        },
        "id": "yOyZhYRfjNgI",
        "outputId": "ecd29a02-bc33-4383-c31f-8b9488b76df9"
      },
      "source": [
        "#Prediction function\r\n",
        "predictions = model.predict(test_images)\r\n",
        "def getImage():\r\n",
        "  while True:\r\n",
        "    insert_data = input(\"Enter a number from 0 to 10000: \")\r\n",
        "    if insert_data.isdigit() and int(insert_data)<=len(test_images):\r\n",
        "   \r\n",
        "      ins = int(insert_data)\r\n",
        "\r\n",
        "      predicted = class_names[np.argmax(predictions[ins])]\r\n",
        "      \r\n",
        "      plt.figure()\r\n",
        "       \r\n",
        "      return plt.title('Predicted Value: ' + predicted), plt.imshow(test_images[ins], cmap=plt.cm.binary), plt.xlabel('Expected value: '+class_names[test_labels[ins]]) \r\n",
        "    else:\r\n",
        "      print(\"try again: \")\r\n",
        "\r\n",
        "getImage()"
      ],
      "execution_count": 16,
      "outputs": [
        {
          "output_type": "stream",
          "text": [
            "Enter a number from 0 to 10000: g\n",
            "try again: \n",
            "Enter a number from 0 to 10000: g\n",
            "try again: \n",
            "Enter a number from 0 to 10000: 12000\n",
            "try again: \n",
            "Enter a number from 0 to 10000: 1000000\n",
            "try again: \n",
            "Enter a number from 0 to 10000: 1234\n"
          ],
          "name": "stdout"
        },
        {
          "output_type": "execute_result",
          "data": {
            "text/plain": [
              "(Text(0.5, 1.0, 'Predicted Value: Coat'),\n",
              " <matplotlib.image.AxesImage at 0x7fbb2238fc50>,\n",
              " Text(0.5, 0, 'Expected value: Coat'))"
            ]
          },
          "metadata": {
            "tags": []
          },
          "execution_count": 16
        },
        {
          "output_type": "display_data",
          "data": {
            "image/png": "[encoded data removed]",
            "text/plain": [
              "<Figure size 432x288 with 1 Axes>"
            ]
          },
          "metadata": {
            "tags": [],
            "needs_background": "light"
          }
        }
      ]
    },
    {
      "cell_type": "code",
      "metadata": {
        "colab": {
          "base_uri": "https://localhost:8080/"
        },
        "id": "FepXA-tEkAi1",
        "outputId": "07133055-edcb-40c4-bad4-f0a32ea51cf7"
      },
      "source": [
        "1"
      ],
      "execution_count": null,
      "outputs": [
        {
          "output_type": "execute_result",
          "data": {
            "text/plain": [
              "10000"
            ]
          },
          "metadata": {
            "tags": []
          },
          "execution_count": 39
        }
      ]
    }
  ]
}